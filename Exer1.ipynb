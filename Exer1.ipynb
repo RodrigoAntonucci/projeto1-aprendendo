{
 "cells": [
  {
   "cell_type": "code",
   "execution_count": 2,
   "id": "3e354b37",
   "metadata": {},
   "outputs": [
    {
     "name": "stdout",
     "output_type": "stream",
     "text": [
      "Olá, Patricia!\n"
     ]
    }
   ],
   "source": [
    "print('Olá, Patricia!')"
   ]
  },
  {
   "cell_type": "code",
   "execution_count": 4,
   "id": "ae01df75",
   "metadata": {},
   "outputs": [
    {
     "name": "stdout",
     "output_type": "stream",
     "text": [
      "Forgotten Gods\n"
     ]
    }
   ],
   "source": [
    "print('Forgotten Gods')"
   ]
  },
  {
   "cell_type": "code",
   "execution_count": 2,
   "id": "cf1394f1",
   "metadata": {},
   "outputs": [
    {
     "name": "stdout",
     "output_type": "stream",
     "text": [
      "Oi\n"
     ]
    }
   ],
   "source": [
    "print('Oi')"
   ]
  },
  {
   "cell_type": "code",
   "execution_count": 11,
   "id": "1d7a457f",
   "metadata": {},
   "outputs": [
    {
     "name": "stdout",
     "output_type": "stream",
     "text": [
      "Olá, Tudo Bem?\n",
      "Bem e você?\n"
     ]
    }
   ],
   "source": [
    "print('Olá, ' 'Tudo Bem?')\n",
    "print('Bem e você?')"
   ]
  },
  {
   "cell_type": "code",
   "execution_count": 18,
   "id": "8925d4bb",
   "metadata": {},
   "outputs": [
    {
     "name": "stdout",
     "output_type": "stream",
     "text": [
      "Oi\n"
     ]
    }
   ],
   "source": [
    "#isso é um comentário\n",
    "print('Oi')"
   ]
  },
  {
   "cell_type": "code",
   "execution_count": 1,
   "id": "4ea3bb6b",
   "metadata": {},
   "outputs": [
    {
     "name": "stdout",
     "output_type": "stream",
     "text": [
      "11\n"
     ]
    }
   ],
   "source": [
    "print (5+6)"
   ]
  },
  {
   "cell_type": "code",
   "execution_count": 2,
   "id": "d78f8666",
   "metadata": {},
   "outputs": [
    {
     "name": "stdout",
     "output_type": "stream",
     "text": [
      "5\n",
      "15\n",
      "5.666666666666667\n",
      "8\n"
     ]
    }
   ],
   "source": [
    "print(10-5)\n",
    "print(5*3)\n",
    "print(17/3)\n",
    "print(2**3)"
   ]
  },
  {
   "cell_type": "code",
   "execution_count": 3,
   "id": "df3124d8",
   "metadata": {},
   "outputs": [
    {
     "name": "stdout",
     "output_type": "stream",
     "text": [
      "2\n"
     ]
    }
   ],
   "source": [
    "print(5//2)"
   ]
  },
  {
   "cell_type": "code",
   "execution_count": 4,
   "id": "f03d4ed4",
   "metadata": {},
   "outputs": [
    {
     "name": "stdout",
     "output_type": "stream",
     "text": [
      "1\n"
     ]
    }
   ],
   "source": [
    "print(5%2)"
   ]
  },
  {
   "cell_type": "code",
   "execution_count": 5,
   "id": "2c26d07a",
   "metadata": {},
   "outputs": [],
   "source": [
    "a = 5"
   ]
  },
  {
   "cell_type": "code",
   "execution_count": 7,
   "id": "8ef62738",
   "metadata": {},
   "outputs": [
    {
     "data": {
      "text/plain": [
       "True"
      ]
     },
     "execution_count": 7,
     "metadata": {},
     "output_type": "execute_result"
    }
   ],
   "source": [
    "a == 5"
   ]
  },
  {
   "cell_type": "code",
   "execution_count": 8,
   "id": "78336f2a",
   "metadata": {},
   "outputs": [
    {
     "data": {
      "text/plain": [
       "False"
      ]
     },
     "execution_count": 8,
     "metadata": {},
     "output_type": "execute_result"
    }
   ],
   "source": [
    "a == 3"
   ]
  },
  {
   "cell_type": "code",
   "execution_count": 20,
   "id": "4c708f4d",
   "metadata": {},
   "outputs": [],
   "source": [
    "b = 7"
   ]
  },
  {
   "cell_type": "code",
   "execution_count": 12,
   "id": "3f409ce9",
   "metadata": {},
   "outputs": [],
   "source": [
    "c = a + b"
   ]
  },
  {
   "cell_type": "code",
   "execution_count": 23,
   "id": "68d9f138",
   "metadata": {},
   "outputs": [
    {
     "name": "stdout",
     "output_type": "stream",
     "text": [
      "11\n"
     ]
    }
   ],
   "source": [
    "print(b)"
   ]
  },
  {
   "cell_type": "code",
   "execution_count": 14,
   "id": "ade0a375",
   "metadata": {},
   "outputs": [],
   "source": [
    "variavel1 = 3\n",
    "variavel2 = 4\n",
    "variavel1 = 9"
   ]
  },
  {
   "cell_type": "code",
   "execution_count": 15,
   "id": "b04d2d8e",
   "metadata": {},
   "outputs": [
    {
     "name": "stdout",
     "output_type": "stream",
     "text": [
      "9\n"
     ]
    }
   ],
   "source": [
    "print(variavel1)"
   ]
  },
  {
   "cell_type": "code",
   "execution_count": 22,
   "id": "eb34219a",
   "metadata": {},
   "outputs": [],
   "source": [
    "b = 11"
   ]
  },
  {
   "cell_type": "code",
   "execution_count": 24,
   "id": "71821eac",
   "metadata": {},
   "outputs": [
    {
     "name": "stdout",
     "output_type": "stream",
     "text": [
      "20\n"
     ]
    }
   ],
   "source": [
    "print(b + variavel1)"
   ]
  },
  {
   "cell_type": "code",
   "execution_count": 26,
   "id": "95023fb1",
   "metadata": {},
   "outputs": [],
   "source": [
    "var = 4\n",
    "var2 = 3.5"
   ]
  },
  {
   "cell_type": "code",
   "execution_count": 27,
   "id": "862339bf",
   "metadata": {},
   "outputs": [
    {
     "data": {
      "text/plain": [
       "int"
      ]
     },
     "execution_count": 27,
     "metadata": {},
     "output_type": "execute_result"
    }
   ],
   "source": [
    "type(var)"
   ]
  },
  {
   "cell_type": "code",
   "execution_count": 28,
   "id": "eb898fe9",
   "metadata": {},
   "outputs": [
    {
     "data": {
      "text/plain": [
       "float"
      ]
     },
     "execution_count": 28,
     "metadata": {},
     "output_type": "execute_result"
    }
   ],
   "source": [
    "type(var2)"
   ]
  },
  {
   "cell_type": "code",
   "execution_count": 29,
   "id": "b1814bf4",
   "metadata": {},
   "outputs": [],
   "source": [
    "palavra = 'Frase 1'"
   ]
  },
  {
   "cell_type": "code",
   "execution_count": 30,
   "id": "50637866",
   "metadata": {},
   "outputs": [
    {
     "data": {
      "text/plain": [
       "str"
      ]
     },
     "execution_count": 30,
     "metadata": {},
     "output_type": "execute_result"
    }
   ],
   "source": [
    "type(palavra)"
   ]
  },
  {
   "cell_type": "code",
   "execution_count": 31,
   "id": "efae2020",
   "metadata": {},
   "outputs": [
    {
     "name": "stdout",
     "output_type": "stream",
     "text": [
      "7.5\n"
     ]
    }
   ],
   "source": [
    "print(var + var2)"
   ]
  },
  {
   "cell_type": "code",
   "execution_count": 32,
   "id": "f73c9f58",
   "metadata": {},
   "outputs": [
    {
     "ename": "TypeError",
     "evalue": "unsupported operand type(s) for +: 'int' and 'str'",
     "output_type": "error",
     "traceback": [
      "\u001b[1;31m---------------------------------------------------------------------------\u001b[0m",
      "\u001b[1;31mTypeError\u001b[0m                                 Traceback (most recent call last)",
      "Input \u001b[1;32mIn [32]\u001b[0m, in \u001b[0;36m<cell line: 1>\u001b[1;34m()\u001b[0m\n\u001b[1;32m----> 1\u001b[0m \u001b[38;5;28mprint\u001b[39m(\u001b[43mvar\u001b[49m\u001b[43m \u001b[49m\u001b[38;5;241;43m+\u001b[39;49m\u001b[43m \u001b[49m\u001b[43mpalavra\u001b[49m)\n",
      "\u001b[1;31mTypeError\u001b[0m: unsupported operand type(s) for +: 'int' and 'str'"
     ]
    }
   ],
   "source": [
    "print(var + palavra)"
   ]
  },
  {
   "cell_type": "code",
   "execution_count": 33,
   "id": "c6b7ca1e",
   "metadata": {},
   "outputs": [
    {
     "name": "stdout",
     "output_type": "stream",
     "text": [
      "Qual seu nome?Rodrigo\n"
     ]
    }
   ],
   "source": [
    "nome = input('Qual seu nome?')"
   ]
  },
  {
   "cell_type": "code",
   "execution_count": 34,
   "id": "05722964",
   "metadata": {},
   "outputs": [
    {
     "name": "stdout",
     "output_type": "stream",
     "text": [
      "Rodrigo\n"
     ]
    }
   ],
   "source": [
    "print(nome)"
   ]
  },
  {
   "cell_type": "code",
   "execution_count": 36,
   "id": "1108025e",
   "metadata": {},
   "outputs": [
    {
     "name": "stdout",
     "output_type": "stream",
     "text": [
      "Qual a sua idade?37\n"
     ]
    }
   ],
   "source": [
    "idade = input(\"Qual a sua idade?\")"
   ]
  },
  {
   "cell_type": "code",
   "execution_count": 37,
   "id": "910793c0",
   "metadata": {},
   "outputs": [
    {
     "name": "stdout",
     "output_type": "stream",
     "text": [
      "37\n"
     ]
    }
   ],
   "source": [
    "print(idade)"
   ]
  },
  {
   "cell_type": "code",
   "execution_count": 38,
   "id": "4ba564a4",
   "metadata": {},
   "outputs": [
    {
     "name": "stdout",
     "output_type": "stream",
     "text": [
      "3737\n"
     ]
    }
   ],
   "source": [
    "print(idade*2)"
   ]
  },
  {
   "cell_type": "code",
   "execution_count": 39,
   "id": "a02cd1eb",
   "metadata": {},
   "outputs": [
    {
     "data": {
      "text/plain": [
       "str"
      ]
     },
     "execution_count": 39,
     "metadata": {},
     "output_type": "execute_result"
    }
   ],
   "source": [
    "type(idade)"
   ]
  },
  {
   "cell_type": "code",
   "execution_count": 40,
   "id": "e9e8a5ef",
   "metadata": {},
   "outputs": [],
   "source": [
    "d = \"Oi\""
   ]
  },
  {
   "cell_type": "code",
   "execution_count": 42,
   "id": "f06425db",
   "metadata": {},
   "outputs": [
    {
     "name": "stdout",
     "output_type": "stream",
     "text": [
      "OiOiOiOiOi\n"
     ]
    }
   ],
   "source": [
    "print(d*5)"
   ]
  },
  {
   "cell_type": "code",
   "execution_count": 43,
   "id": "f66d4a79",
   "metadata": {},
   "outputs": [
    {
     "name": "stdout",
     "output_type": "stream",
     "text": [
      "Qual a sua idade?37\n"
     ]
    }
   ],
   "source": [
    "idade = int(input('Qual a sua idade?'))"
   ]
  },
  {
   "cell_type": "code",
   "execution_count": 44,
   "id": "763b2b0a",
   "metadata": {},
   "outputs": [
    {
     "data": {
      "text/plain": [
       "int"
      ]
     },
     "execution_count": 44,
     "metadata": {},
     "output_type": "execute_result"
    }
   ],
   "source": [
    "type(idade)"
   ]
  },
  {
   "cell_type": "code",
   "execution_count": 45,
   "id": "895202bf",
   "metadata": {},
   "outputs": [
    {
     "name": "stdout",
     "output_type": "stream",
     "text": [
      "74\n"
     ]
    }
   ],
   "source": [
    "print(idade*2)"
   ]
  },
  {
   "cell_type": "code",
   "execution_count": 2,
   "id": "ffa6170b",
   "metadata": {},
   "outputs": [
    {
     "name": "stdout",
     "output_type": "stream",
     "text": [
      "Digite: 43\n"
     ]
    }
   ],
   "source": [
    "age = float(input('Digite: '))"
   ]
  },
  {
   "cell_type": "code",
   "execution_count": 47,
   "id": "dcb4c917",
   "metadata": {},
   "outputs": [
    {
     "data": {
      "text/plain": [
       "float"
      ]
     },
     "execution_count": 47,
     "metadata": {},
     "output_type": "execute_result"
    }
   ],
   "source": [
    "type(age)"
   ]
  },
  {
   "cell_type": "code",
   "execution_count": 48,
   "id": "24e39198",
   "metadata": {},
   "outputs": [
    {
     "name": "stdout",
     "output_type": "stream",
     "text": [
      "111\n"
     ]
    }
   ],
   "source": [
    "print(idade*3)"
   ]
  },
  {
   "cell_type": "code",
   "execution_count": 12,
   "id": "66e78dc4",
   "metadata": {},
   "outputs": [
    {
     "name": "stdout",
     "output_type": "stream",
     "text": [
      "172.0\n"
     ]
    }
   ],
   "source": [
    "print(age*4)"
   ]
  },
  {
   "cell_type": "code",
   "execution_count": 22,
   "id": "7af8dac9",
   "metadata": {},
   "outputs": [],
   "source": [
    "fruta = 'Laranja'"
   ]
  },
  {
   "cell_type": "code",
   "execution_count": 20,
   "id": "1e7ceee2",
   "metadata": {},
   "outputs": [
    {
     "name": "stdout",
     "output_type": "stream",
     "text": [
      "Suco de 6 é o meu favorito!\n"
     ]
    }
   ],
   "source": [
    "print('Suco de %d é o meu favorito!' %fruta)"
   ]
  },
  {
   "cell_type": "code",
   "execution_count": 19,
   "id": "61658786",
   "metadata": {},
   "outputs": [
    {
     "data": {
      "text/plain": [
       "int"
      ]
     },
     "execution_count": 19,
     "metadata": {},
     "output_type": "execute_result"
    }
   ],
   "source": [
    "type(fruta)"
   ]
  },
  {
   "cell_type": "code",
   "execution_count": 23,
   "id": "b3f1958c",
   "metadata": {},
   "outputs": [
    {
     "name": "stdout",
     "output_type": "stream",
     "text": [
      "Suco de Laranja é o meu favorito\n"
     ]
    }
   ],
   "source": [
    "print('Suco de {} é o meu favorito' .format(fruta))"
   ]
  },
  {
   "cell_type": "code",
   "execution_count": 32,
   "id": "3d787cdc",
   "metadata": {},
   "outputs": [],
   "source": [
    "cor1 = 'azul'\n",
    "cor2 = 'rosa'"
   ]
  },
  {
   "cell_type": "code",
   "execution_count": 34,
   "id": "7d818b1d",
   "metadata": {},
   "outputs": [
    {
     "name": "stdout",
     "output_type": "stream",
     "text": [
      "O céu é rosa, a flor é azul e meu carro é rosa\n"
     ]
    }
   ],
   "source": [
    "print ('O céu é {1}, a flor é {0} e meu carro é {1}' .format (cor1, cor2))"
   ]
  },
  {
   "cell_type": "code",
   "execution_count": 36,
   "id": "cd147065",
   "metadata": {},
   "outputs": [
    {
     "name": "stdout",
     "output_type": "stream",
     "text": [
      "5.666666666666667\n"
     ]
    }
   ],
   "source": [
    "conta = 17/3\n",
    "print(conta)"
   ]
  },
  {
   "cell_type": "code",
   "execution_count": 38,
   "id": "e30fbf9e",
   "metadata": {},
   "outputs": [
    {
     "name": "stdout",
     "output_type": "stream",
     "text": [
      "o resultado da conta é: 5.67\n"
     ]
    }
   ],
   "source": [
    "print('o resultado da conta é: {:.2f}'.format(conta))"
   ]
  },
  {
   "cell_type": "code",
   "execution_count": null,
   "id": "af5fdd9d",
   "metadata": {},
   "outputs": [],
   "source": [
    "se isso é verdade, então faça aquilo"
   ]
  },
  {
   "cell_type": "code",
   "execution_count": 40,
   "id": "a3f66277",
   "metadata": {},
   "outputs": [
    {
     "name": "stdout",
     "output_type": "stream",
     "text": [
      "Possui muitas calorias!\n"
     ]
    }
   ],
   "source": [
    "comida = 'Pizza'\n",
    "if comida == 'Pizza':\n",
    "    print('Possui muitas calorias!')"
   ]
  },
  {
   "cell_type": "code",
   "execution_count": 42,
   "id": "29c2da80",
   "metadata": {},
   "outputs": [
    {
     "name": "stdout",
     "output_type": "stream",
     "text": [
      "Desconheço as calorias!\n"
     ]
    }
   ],
   "source": [
    "comida = 'Macarrão'\n",
    "if comida == 'Pizza':\n",
    "    print('Possui muitas calorias!')\n",
    "else:\n",
    "    print('Desconheço as calorias!')"
   ]
  },
  {
   "cell_type": "code",
   "execution_count": 49,
   "id": "5782db0c",
   "metadata": {},
   "outputs": [
    {
     "name": "stdout",
     "output_type": "stream",
     "text": [
      "Possui muitas calorias!\n"
     ]
    }
   ],
   "source": [
    "comida = 'churrasco'\n",
    "if comida == 'Pizza':\n",
    "    print('Possui muitas calorias!')\n",
    "    \n",
    "elif comida == 'abóbora':\n",
    "    print('Possui pouca calorias!')\n",
    "elif comida == 'churrasco':\n",
    "    print('Possui muitas calorias!')\n",
    "elif comida == 'melão':\n",
    "    print('Possui pouca calorias!')\n",
    "else:\n",
    "    print('Desconheço as calorias!')"
   ]
  },
  {
   "cell_type": "code",
   "execution_count": 54,
   "id": "5d87bf84",
   "metadata": {},
   "outputs": [
    {
     "name": "stdout",
     "output_type": "stream",
     "text": [
      "Não é pizza!\n"
     ]
    }
   ],
   "source": [
    "comida = 'beterraba'\n",
    "if comida != 'pizza':\n",
    "    print('Não é pizza!')\n",
    "else:\n",
    "    print('É pizza!')"
   ]
  },
  {
   "cell_type": "code",
   "execution_count": 57,
   "id": "5ed46257",
   "metadata": {},
   "outputs": [
    {
     "name": "stdout",
     "output_type": "stream",
     "text": [
      "É igual!\n"
     ]
    }
   ],
   "source": [
    "comida = 7\n",
    "if comida <= 5:\n",
    "    print('Não é igual!')\n",
    "else:\n",
    "    print('É igual!')"
   ]
  },
  {
   "cell_type": "code",
   "execution_count": 79,
   "id": "9c689af8",
   "metadata": {},
   "outputs": [
    {
     "name": "stdout",
     "output_type": "stream",
     "text": [
      "Que ano você nasceu?1955\n",
      "Você é adulto!\n"
     ]
    }
   ],
   "source": [
    "ano = int(input(\"Que ano você nasceu?\"))\n",
    "idade = 2022 - ano\n",
    "if idade >= 18:\n",
    "    print('Você é adulto!')\n",
    "elif idade <= 0:\n",
    "    print('Erro! Digite novamente seu ano de nascimento novamente.') \n",
    "else:\n",
    "    print('Você ainda não é adulto!')\n"
   ]
  },
  {
   "cell_type": "code",
   "execution_count": 33,
   "id": "7bc001a4",
   "metadata": {},
   "outputs": [
    {
     "name": "stdout",
     "output_type": "stream",
     "text": [
      "5\n"
     ]
    }
   ],
   "source": [
    "a = 0\n",
    "for i in range(5):\n",
    "    a = a + 1\n",
    "print(a)    "
   ]
  },
  {
   "cell_type": "code",
   "execution_count": 47,
   "id": "d4c5205d",
   "metadata": {},
   "outputs": [
    {
     "name": "stdout",
     "output_type": "stream",
     "text": [
      "Frase\n",
      "Frase\n",
      "Frase\n",
      "Frase\n",
      "Frase\n",
      "Frase\n",
      "Frase\n",
      "Frase\n",
      "Frase\n",
      "Frase\n"
     ]
    }
   ],
   "source": [
    "a = 0\n",
    "b = 10\n",
    "for i in range(b):\n",
    "    print('Frase')"
   ]
  },
  {
   "cell_type": "code",
   "execution_count": 34,
   "id": "0ce532ac",
   "metadata": {},
   "outputs": [
    {
     "name": "stdout",
     "output_type": "stream",
     "text": [
      "M\n",
      "a\n",
      "t\n",
      "e\n",
      "m\n",
      "á\n",
      "t\n",
      "i\n",
      "c\n",
      "a\n"
     ]
    }
   ],
   "source": [
    "palavra = 'Matemática'\n",
    "for vacs in palavra:\n",
    "    print(vacs)"
   ]
  },
  {
   "cell_type": "code",
   "execution_count": 1,
   "id": "5f2983a1",
   "metadata": {},
   "outputs": [
    {
     "name": "stdout",
     "output_type": "stream",
     "text": [
      "2\n",
      "54\n",
      "Song\n",
      "10\n",
      "4\n",
      "Oi\n"
     ]
    }
   ],
   "source": [
    "lista = [2, 54, 'Song', 10, 4, 'Oi']\n",
    "for num in lista:\n",
    "    print(num)"
   ]
  },
  {
   "cell_type": "code",
   "execution_count": 4,
   "id": "010707f9",
   "metadata": {},
   "outputs": [
    {
     "name": "stdout",
     "output_type": "stream",
     "text": [
      "Ainda não deu.\n",
      "Ainda não deu.\n",
      "Ainda não deu.\n",
      "Ainda não deu.\n",
      "Ainda não deu.\n",
      "Ainda não deu.\n",
      "Ainda não deu.\n",
      "Ainda não deu.\n",
      "Ainda não deu.\n",
      "Ainda não deu.\n",
      "Agora deu!\n"
     ]
    }
   ],
   "source": [
    "import time\n",
    "contador = 0\n",
    "while contador < 10:\n",
    "    print('Ainda não deu.')\n",
    "    contador = contador + 1\n",
    "    time.sleep(1)\n",
    "print('Agora deu!')"
   ]
  },
  {
   "cell_type": "code",
   "execution_count": 5,
   "id": "26844843",
   "metadata": {},
   "outputs": [
    {
     "name": "stdout",
     "output_type": "stream",
     "text": [
      "Ainda não deu.\n",
      "Ainda não deu.\n",
      "Ainda não deu.\n",
      "Ainda não deu.\n",
      "Ainda não deu.\n",
      "Ainda não deu.\n",
      "Agora deu!\n"
     ]
    }
   ],
   "source": [
    "import time\n",
    "contador = 0\n",
    "while contador < 10:\n",
    "    print('Ainda não deu.')\n",
    "    contador = contador + 1\n",
    "    if contador == 6:\n",
    "        break\n",
    "    time.sleep(1)\n",
    "print('Agora deu!')"
   ]
  },
  {
   "cell_type": "code",
   "execution_count": 9,
   "id": "161aa77f",
   "metadata": {},
   "outputs": [
    {
     "name": "stdout",
     "output_type": "stream",
     "text": [
      "Digite um número: 9\n",
      "9! = 362880\n"
     ]
    }
   ],
   "source": [
    "numero = int(input('Digite um número: '))\n",
    "fatorial = numero\n",
    "contador = 1\n",
    "while (numero-contador)>1:\n",
    "    fatorial = fatorial*(numero-contador)\n",
    "    contador += 1\n",
    "print('{0}! = {1}'.format(numero,fatorial))    "
   ]
  },
  {
   "cell_type": "code",
   "execution_count": 11,
   "id": "d8418c6d",
   "metadata": {},
   "outputs": [
    {
     "data": {
      "text/plain": [
       "120"
      ]
     },
     "execution_count": 11,
     "metadata": {},
     "output_type": "execute_result"
    }
   ],
   "source": [
    "import math\n",
    "math.factorial(5)"
   ]
  },
  {
   "cell_type": "code",
   "execution_count": 12,
   "id": "61e88830",
   "metadata": {},
   "outputs": [
    {
     "data": {
      "text/plain": [
       "datetime.date(2022, 9, 6)"
      ]
     },
     "execution_count": 12,
     "metadata": {},
     "output_type": "execute_result"
    }
   ],
   "source": [
    "import datetime\n",
    "datetime.date.today()"
   ]
  },
  {
   "cell_type": "code",
   "execution_count": 1,
   "id": "2cff342f",
   "metadata": {},
   "outputs": [
    {
     "data": {
      "text/plain": [
       "'2022-09-07'"
      ]
     },
     "execution_count": 1,
     "metadata": {},
     "output_type": "execute_result"
    }
   ],
   "source": [
    "import datetime\n",
    "datetime.date.isoformat(datetime.date.today())"
   ]
  },
  {
   "cell_type": "code",
   "execution_count": 2,
   "id": "826602c4",
   "metadata": {},
   "outputs": [
    {
     "data": {
      "text/plain": [
       "'2022-09-07'"
      ]
     },
     "execution_count": 2,
     "metadata": {},
     "output_type": "execute_result"
    }
   ],
   "source": [
    "from datetime import date\n",
    "date.isoformat(date.today())"
   ]
  },
  {
   "cell_type": "code",
   "execution_count": 11,
   "id": "bd25b5b7",
   "metadata": {},
   "outputs": [],
   "source": [
    "def parabens():\n",
    "    print(' Parabéns para você\\n Nessa data querida\\n Muitas felicidades\\n Muitos anos de vida\\n')\n",
    "    \n"
   ]
  },
  {
   "cell_type": "code",
   "execution_count": 12,
   "id": "47aa9043",
   "metadata": {},
   "outputs": [
    {
     "name": "stdout",
     "output_type": "stream",
     "text": [
      " Parabéns para você\n",
      " Nessa data querida\n",
      " Muitas felicidades\n",
      " Muitos anos de vida\n",
      "\n"
     ]
    }
   ],
   "source": [
    "parabens()"
   ]
  },
  {
   "cell_type": "code",
   "execution_count": 13,
   "id": "78fadbbc",
   "metadata": {},
   "outputs": [],
   "source": [
    "def temLetrau():\n",
    "    frase = input('Digite uma frase: ')\n",
    "    if'u' in frase:\n",
    "        print('Você utilizou a letra u')\n",
    "    else:\n",
    "        print('Você não utilizou a letra u')"
   ]
  },
  {
   "cell_type": "code",
   "execution_count": 15,
   "id": "ff9c79c4",
   "metadata": {},
   "outputs": [
    {
     "name": "stdout",
     "output_type": "stream",
     "text": [
      "Digite uma frase: Hoje o dia está nublado\n",
      "Você utilizou a letra u\n"
     ]
    }
   ],
   "source": [
    "temLetrau()"
   ]
  },
  {
   "cell_type": "code",
   "execution_count": 16,
   "id": "bc2864e3",
   "metadata": {},
   "outputs": [],
   "source": [
    "def somaQuadrados(a,b):\n",
    "    somaQ = a**2 + b**2\n",
    "    return somaQ\n",
    "    "
   ]
  },
  {
   "cell_type": "code",
   "execution_count": 17,
   "id": "5d06c019",
   "metadata": {},
   "outputs": [
    {
     "data": {
      "text/plain": [
       "13"
      ]
     },
     "execution_count": 17,
     "metadata": {},
     "output_type": "execute_result"
    }
   ],
   "source": [
    "somaQuadrados(2,3)"
   ]
  },
  {
   "cell_type": "code",
   "execution_count": null,
   "id": "d132d4c1",
   "metadata": {},
   "outputs": [],
   "source": []
  }
 ],
 "metadata": {
  "kernelspec": {
   "display_name": "Python 3 (ipykernel)",
   "language": "python",
   "name": "python3"
  },
  "language_info": {
   "codemirror_mode": {
    "name": "ipython",
    "version": 3
   },
   "file_extension": ".py",
   "mimetype": "text/x-python",
   "name": "python",
   "nbconvert_exporter": "python",
   "pygments_lexer": "ipython3",
   "version": "3.9.12"
  }
 },
 "nbformat": 4,
 "nbformat_minor": 5
}
